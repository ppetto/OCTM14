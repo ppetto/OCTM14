{
 "metadata": {
  "name": "Spreading_Rumors.ipynb"
 },
 "nbformat": 3,
 "nbformat_minor": 0,
 "worksheets": [
  {
   "cells": [
    {
     "cell_type": "code",
     "collapsed": false,
     "input": [
      "population = 25\n",
      "all = range(1, population + 1)\n",
      "gossips = [random.randint(1,population)]\n",
      "stopped = []\n",
      "round = 0\n",
      "print 'round = ', round\n",
      "print 'gossips = ', gossips\n",
      "print 'stopped = ', stopped\n",
      "print\n",
      "\n",
      "\n",
      "while len(gossips) > 0:\n",
      "\titerate = tuple(gossips)\n",
      "\tround += 1\n",
      "\tprint 'round = ', round\n",
      "\tfor each in iterate:\n",
      "\t\ttarget = random.randint(1,population)\n",
      "\t\twhile target == each:\n",
      "\t\t\ttarget = random.randint(1,population)\n",
      "\t\tprint 'gossip = ', each\n",
      "\t\tprint 'target = ', target\t\n",
      "\t\tif target in gossips or target in stopped:\n",
      "\t\t\tstopped.append(each)\n",
      "\t\t\tgossips.remove(each)\n",
      "\t\t\tall.remove(each)\n",
      "\t\telse:\n",
      "\t\t\tgossips.append(target)\n",
      "\t\tprint 'gossips = ', gossips\n",
      "\t\tprint 'stopped = ', stopped\n",
      "\t\tprint\n",
      "\n",
      "\n",
      "stopped.sort()\n",
      "print \n",
      "print 'last round = ', round\n",
      "print 'number stopped = ', len(stopped)\n",
      "print 'percent stopped = ', (len(stopped)/float(population))*100 \n",
      "print 'stopped = ', stopped\n",
      "print 'clueless = ', all"
     ],
     "language": "python",
     "metadata": {},
     "outputs": []
    },
    {
     "cell_type": "code",
     "collapsed": false,
     "input": [
      "rumor_distro = []\n",
      "\n",
      "for each in range(100):\n",
      "\tpopulation = 25\n",
      "\tall = range(1, population + 1)\n",
      "\tgossips = [random.randint(1,population)]\n",
      "\tstopped = []\n",
      "\tround = 0\n",
      "\n",
      "\twhile len(gossips) > 0:\n",
      "\t\titerate = tuple(gossips)\n",
      "\t\tround += 1\n",
      "\t\tfor each in iterate:\n",
      "\t\t\ttarget = random.randint(1,population)\n",
      "\t\t\twhile target == each:\n",
      "\t\t\t\ttarget = random.randint(1,population)\n",
      "\t\t\tif target in gossips or target in stopped:\n",
      "\t\t\t\tstopped.append(each)\n",
      "\t\t\t\tgossips.remove(each)\n",
      "\t\t\t\tall.remove(each)\n",
      "\t\t\telse:\n",
      "\t\t\t\tgossips.append(target)\n",
      "\tprint 'knows rumor pct = ', (len(stopped)/float(population))*100\n",
      "\trumor_distro.append((len(stopped)/float(population))*100)"
     ],
     "language": "python",
     "metadata": {},
     "outputs": []
    },
    {
     "cell_type": "code",
     "collapsed": false,
     "input": [
      "plt.hist(rumor_distro)"
     ],
     "language": "python",
     "metadata": {},
     "outputs": []
    },
    {
     "cell_type": "code",
     "collapsed": false,
     "input": [],
     "language": "python",
     "metadata": {},
     "outputs": []
    }
   ],
   "metadata": {}
  }
 ]
}