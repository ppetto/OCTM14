{
 "metadata": {
  "name": "Coin_Flipping.ipynb",
  "signature": "sha256:b3090253afca19a6f2d78061c8a4616f55d4a9864b6d2a52be0cf2795ed8c3c0"
 },
 "nbformat": 3,
 "nbformat_minor": 0,
 "worksheets": [
  {
   "cells": [
    {
     "cell_type": "markdown",
     "metadata": {},
     "source": [
      "This file is interactive when loaded into an Ipython Notebook. I am also going to rewrite it as interactive web \"Trinkets,\" and as an Rmarkdown document.\n",
      "\n",
      "###Here's code creating a function that flips a fair coin."
     ]
    },
    {
     "cell_type": "code",
     "collapsed": false,
     "input": [
      "coin = [\"H\", \"T\"]\n",
      "\n",
      "def coinflip():\n",
      "    \"flip a fair coin\"\n",
      "    return (random.choice(coin))"
     ],
     "language": "python",
     "metadata": {},
     "outputs": [],
     "prompt_number": 1
    },
    {
     "cell_type": "markdown",
     "metadata": {},
     "source": [
      "###Just execute the function to flip the coin."
     ]
    },
    {
     "cell_type": "code",
     "collapsed": false,
     "input": [
      "coinflip()"
     ],
     "language": "python",
     "metadata": {},
     "outputs": [
      {
       "metadata": {},
       "output_type": "pyout",
       "prompt_number": 2,
       "text": [
        "'T'"
       ]
      }
     ],
     "prompt_number": 2
    },
    {
     "cell_type": "markdown",
     "metadata": {},
     "source": [
      "###Here's code creating a function that flips a fair coin however many times you specify, and then reports the total number of heads followed by the total number of tails."
     ]
    },
    {
     "cell_type": "code",
     "collapsed": false,
     "input": [
      "def multiflip(howmany):\n",
      "    \"flip a coin many times - [heads, tails]\"\n",
      "    totalheads = 0\n",
      "    totaltails = 0\n",
      "    for x in range(howmany):\n",
      "        if coinflip() == \"H\":\n",
      "            totalheads += 1\n",
      "        else:\n",
      "            totaltails += 1\n",
      "    return([totalheads, totaltails])"
     ],
     "language": "python",
     "metadata": {},
     "outputs": [],
     "prompt_number": 3
    },
    {
     "cell_type": "markdown",
     "metadata": {},
     "source": [
      "###Just execute the function (specifying the number of flips) to see the result."
     ]
    },
    {
     "cell_type": "code",
     "collapsed": false,
     "input": [
      "multiflip(1000)"
     ],
     "language": "python",
     "metadata": {},
     "outputs": [
      {
       "metadata": {},
       "output_type": "pyout",
       "prompt_number": 4,
       "text": [
        "[508, 492]"
       ]
      }
     ],
     "prompt_number": 4
    },
    {
     "cell_type": "markdown",
     "metadata": {},
     "source": [
      "###Here's code creating a function that flips a fair coin however many times you specify, and then reports the total number of time heads was \"winning\" followed by the total number of tails was \"winning\" followed by the total number of times they were tied."
     ]
    },
    {
     "cell_type": "code",
     "collapsed": false,
     "input": [
      "def multifliptallywinners(howmany):\n",
      "    \"flip a coin many times & track who is winning - [headwins, tailwins, ties]\"\n",
      "    totalheads = 0\n",
      "    totaltails = 0\n",
      "    headwins = 0\n",
      "    tailwins = 0\n",
      "    ties = 0\n",
      "    for x in range(howmany):\n",
      "        if coinflip() == \"H\":\n",
      "            totalheads += 1\n",
      "        else:\n",
      "            totaltails += 1\n",
      "        if totalheads > totaltails:\n",
      "            headwins += 1\n",
      "        elif totalheads < totaltails:\n",
      "            tailwins += 1\n",
      "        else:\n",
      "            ties += 1\n",
      "    return([totalheads, totaltails, headwins, tailwins, ties])"
     ],
     "language": "python",
     "metadata": {},
     "outputs": [],
     "prompt_number": 5
    },
    {
     "cell_type": "markdown",
     "metadata": {},
     "source": [
      "###Just execute the function (specifying the number of flips) to see the result."
     ]
    },
    {
     "cell_type": "code",
     "collapsed": false,
     "input": [
      "multifliptallywinners(1000)"
     ],
     "language": "python",
     "metadata": {},
     "outputs": [
      {
       "metadata": {},
       "output_type": "pyout",
       "prompt_number": 6,
       "text": [
        "[502, 498, 63, 929, 8]"
       ]
      }
     ],
     "prompt_number": 6
    },
    {
     "cell_type": "markdown",
     "metadata": {},
     "source": [
      "More interesting (to me) than the result from any individual run of coin flipping, would be to find some way to compare this \"winners & ties\" result to what might be a typical result. Unfortunately, I have neither instinct nor intuition as to what typical might be in this case.\n",
      "\n",
      "So...it might be worthwhile to repeat the flipping & tallying and create distributions for winners and ties.\n",
      "\n",
      "###Here's code creating a function that *repeats* flipping a fair coin however many times you specify, and then tallies the total number of time heads was \"won\" tallies the total number of times tails \"won\" and tallies the total number of times they were tied."
     ]
    },
    {
     "cell_type": "code",
     "collapsed": false,
     "input": [
      "headwinsdistribution = []\n",
      "tailwinsdistribution = []\n",
      "tiesdistribution = []\n",
      "\n",
      "def create3distributions(repetitions, howmany):\n",
      "    \"build distributions for headwins, tailwins, ties\"\n",
      "    for x in range(repetitions):\n",
      "        result = multifliptallywinners(howmany)\n",
      "        headwinsdistribution.append(result[2])\n",
      "        tailwinsdistribution.append(result[3])\n",
      "        tiesdistribution.append(result[4])"
     ],
     "language": "python",
     "metadata": {},
     "outputs": [],
     "prompt_number": 7
    },
    {
     "cell_type": "markdown",
     "metadata": {},
     "source": [
      "###Just execute the function (specifying the number of repetitions followed by the number of flips in each run) to construct the three distributions."
     ]
    },
    {
     "cell_type": "code",
     "collapsed": false,
     "input": [
      "create3distributions(1000, 1000)"
     ],
     "language": "python",
     "metadata": {},
     "outputs": [],
     "prompt_number": 8
    },
    {
     "cell_type": "markdown",
     "metadata": {},
     "source": [
      "###A histogram is probably the best way to look at these distributions. Here's the one for heads:"
     ]
    },
    {
     "cell_type": "code",
     "collapsed": false,
     "input": [
      "plt.hist(headwinsdistribution, bins = 50)"
     ],
     "language": "python",
     "metadata": {},
     "outputs": [
      {
       "metadata": {},
       "output_type": "pyout",
       "prompt_number": 9,
       "text": [
        "(array([ 101.,   32.,   27.,   27.,   32.,   18.,   16.,   15.,   19.,\n",
        "         15.,   18.,   18.,   15.,   11.,   22.,   10.,   15.,   11.,\n",
        "         15.,   10.,   17.,   16.,   13.,   11.,   17.,    9.,   11.,\n",
        "         10.,    9.,   15.,   12.,    7.,   15.,   15.,   14.,    5.,\n",
        "         18.,   14.,   10.,   17.,   15.,   21.,   12.,   16.,   19.,\n",
        "         27.,   23.,   27.,   55.,   83.]),\n",
        " array([    0.,    20.,    40.,    60.,    80.,   100.,   120.,   140.,\n",
        "         160.,   180.,   200.,   220.,   240.,   260.,   280.,   300.,\n",
        "         320.,   340.,   360.,   380.,   400.,   420.,   440.,   460.,\n",
        "         480.,   500.,   520.,   540.,   560.,   580.,   600.,   620.,\n",
        "         640.,   660.,   680.,   700.,   720.,   740.,   760.,   780.,\n",
        "         800.,   820.,   840.,   860.,   880.,   900.,   920.,   940.,\n",
        "         960.,   980.,  1000.]),\n",
        " <a list of 50 Patch objects>)"
       ]
      },
      {
       "metadata": {},
       "output_type": "display_data",
       "png": "[encoded data removed]",
       "text": [
        "<matplotlib.figure.Figure at 0x10d8bf0d0>"
       ]
      }
     ],
     "prompt_number": 9
    },
    {
     "cell_type": "markdown",
     "metadata": {},
     "source": [
      "###Here's the distrbution for tails:"
     ]
    },
    {
     "cell_type": "code",
     "collapsed": false,
     "input": [
      "plt.hist(tailwinsdistribution, bins = 50)"
     ],
     "language": "python",
     "metadata": {},
     "outputs": [
      {
       "metadata": {},
       "output_type": "pyout",
       "prompt_number": 10,
       "text": [
        "(array([ 108.,   47.,   36.,   24.,   21.,   19.,   19.,   16.,   20.,\n",
        "         15.,    9.,   15.,   14.,    9.,   16.,   12.,   10.,    7.,\n",
        "         15.,   13.,   14.,   13.,    9.,   10.,   16.,   12.,   15.,\n",
        "         13.,   16.,   16.,   10.,   14.,    9.,   15.,   15.,   10.,\n",
        "         15.,   21.,   18.,   16.,   17.,   11.,   13.,   27.,   22.,\n",
        "         24.,   27.,   29.,   27.,   81.]),\n",
        " array([    0.,    20.,    40.,    60.,    80.,   100.,   120.,   140.,\n",
        "         160.,   180.,   200.,   220.,   240.,   260.,   280.,   300.,\n",
        "         320.,   340.,   360.,   380.,   400.,   420.,   440.,   460.,\n",
        "         480.,   500.,   520.,   540.,   560.,   580.,   600.,   620.,\n",
        "         640.,   660.,   680.,   700.,   720.,   740.,   760.,   780.,\n",
        "         800.,   820.,   840.,   860.,   880.,   900.,   920.,   940.,\n",
        "         960.,   980.,  1000.]),\n",
        " <a list of 50 Patch objects>)"
       ]
      },
      {
       "metadata": {},
       "output_type": "display_data",
       "png": "[encoded data removed]",
       "text": [
        "<matplotlib.figure.Figure at 0x10d8deed0>"
       ]
      }
     ],
     "prompt_number": 10
    },
    {
     "cell_type": "markdown",
     "metadata": {},
     "source": [
      "###And here's the distrbution for ties:"
     ]
    },
    {
     "cell_type": "code",
     "collapsed": false,
     "input": [
      "plt.hist(tiesdistribution, bins = 20)"
     ],
     "language": "python",
     "metadata": {},
     "outputs": [
      {
       "metadata": {},
       "output_type": "pyout",
       "prompt_number": 11,
       "text": [
        "(array([ 114.,  132.,  129.,  124.,  102.,   80.,   70.,   68.,   41.,\n",
        "         40.,   34.,   22.,   16.,   11.,    3.,    7.,    2.,    1.,\n",
        "          3.,    1.]),\n",
        " array([   0.,    5.,   10.,   15.,   20.,   25.,   30.,   35.,   40.,\n",
        "         45.,   50.,   55.,   60.,   65.,   70.,   75.,   80.,   85.,\n",
        "         90.,   95.,  100.]),\n",
        " <a list of 20 Patch objects>)"
       ]
      },
      {
       "metadata": {},
       "output_type": "display_data",
       "png": "[encoded data removed]",
       "text": [
        "<matplotlib.figure.Figure at 0x10df3f550>"
       ]
      }
     ],
     "prompt_number": 11
    },
    {
     "cell_type": "markdown",
     "metadata": {},
     "source": [
      "###Maybe these distributions aren't the best perspective. Let's try looking at things from the perspective of the final winner. And for the moment restrict howmany to odd to force a final winner."
     ]
    },
    {
     "cell_type": "code",
     "collapsed": false,
     "input": [
      "winnerwinsdistribution = []\n",
      "winnerlossesdistribution = []\n",
      "winnertiesdistribution = []\n",
      "tiecount = 0\n",
      "\n",
      "def create3moredistributions(repetitions, howmany):\n",
      "    \"build distributions for winnerwins, winnerlosses, winnerties\"\n",
      "    global tiecount\n",
      "    for x in range(repetitions):\n",
      "        result = multifliptallywinners(howmany)\n",
      "        if result[0] > result[1]:\n",
      "            winnerwinsdistribution.append(result[2])\n",
      "            winnerlossesdistribution.append(result[3])\n",
      "            winnertiesdistribution.append(result[4])\n",
      "        elif result[0] < result[1]:\n",
      "            winnerwinsdistribution.append(result[2])\n",
      "            winnerlossesdistribution.append(result[3])\n",
      "            winnertiesdistribution.append(result[4])\n",
      "        else:\n",
      "            tiecount += 1"
     ],
     "language": "python",
     "metadata": {},
     "outputs": [],
     "prompt_number": 12
    },
    {
     "cell_type": "code",
     "collapsed": false,
     "input": [
      "create3moredistributions(1000, 1000)"
     ],
     "language": "python",
     "metadata": {},
     "outputs": [],
     "prompt_number": 13
    },
    {
     "cell_type": "code",
     "collapsed": false,
     "input": [
      "plt.hist(winnerwinsdistribution, bins = 50)"
     ],
     "language": "python",
     "metadata": {},
     "outputs": [
      {
       "metadata": {},
       "output_type": "pyout",
       "prompt_number": 14,
       "text": [
        "(array([ 93.,  39.,  24.,  25.,  28.,  28.,   9.,  17.,  12.,  19.,  15.,\n",
        "        18.,  13.,  10.,   7.,  13.,  14.,  13.,  15.,  15.,   7.,  17.,\n",
        "        17.,  12.,  14.,  11.,  13.,   8.,  13.,  15.,   8.,  20.,  17.,\n",
        "        12.,  20.,  16.,  13.,  15.,  14.,  11.,  14.,  16.,  15.,  15.,\n",
        "        25.,  19.,  22.,  24.,  33.,  80.]),\n",
        " array([    0.,    20.,    40.,    60.,    80.,   100.,   120.,   140.,\n",
        "         160.,   180.,   200.,   220.,   240.,   260.,   280.,   300.,\n",
        "         320.,   340.,   360.,   380.,   400.,   420.,   440.,   460.,\n",
        "         480.,   500.,   520.,   540.,   560.,   580.,   600.,   620.,\n",
        "         640.,   660.,   680.,   700.,   720.,   740.,   760.,   780.,\n",
        "         800.,   820.,   840.,   860.,   880.,   900.,   920.,   940.,\n",
        "         960.,   980.,  1000.]),\n",
        " <a list of 50 Patch objects>)"
       ]
      },
      {
       "metadata": {},
       "output_type": "display_data",
       "png": "[encoded data removed]",
       "text": [
        "<matplotlib.figure.Figure at 0x10df53d10>"
       ]
      }
     ],
     "prompt_number": 14
    },
    {
     "cell_type": "code",
     "collapsed": false,
     "input": [
      "plt.hist(winnerlossesdistribution, bins = 50)"
     ],
     "language": "python",
     "metadata": {},
     "outputs": [
      {
       "metadata": {},
       "output_type": "pyout",
       "prompt_number": 15,
       "text": [
        "(array([ 98.,  34.,  23.,  26.,  23.,  16.,  22.,  13.,  10.,  14.,  15.,\n",
        "        18.,  13.,  25.,  14.,   8.,  19.,  11.,  18.,  16.,  11.,  10.,\n",
        "        10.,  13.,  14.,  15.,  14.,  16.,  11.,  15.,  14.,  11.,   9.,\n",
        "        10.,   5.,  22.,  13.,  16.,  10.,  17.,  17.,  13.,  13.,  26.,\n",
        "        19.,  21.,  25.,  25.,  39.,  73.]),\n",
        " array([    0.,    20.,    40.,    60.,    80.,   100.,   120.,   140.,\n",
        "         160.,   180.,   200.,   220.,   240.,   260.,   280.,   300.,\n",
        "         320.,   340.,   360.,   380.,   400.,   420.,   440.,   460.,\n",
        "         480.,   500.,   520.,   540.,   560.,   580.,   600.,   620.,\n",
        "         640.,   660.,   680.,   700.,   720.,   740.,   760.,   780.,\n",
        "         800.,   820.,   840.,   860.,   880.,   900.,   920.,   940.,\n",
        "         960.,   980.,  1000.]),\n",
        " <a list of 50 Patch objects>)"
       ]
      },
      {
       "metadata": {},
       "output_type": "display_data",
       "png": "[encoded data removed]",
       "text": [
        "<matplotlib.figure.Figure at 0x10df53d90>"
       ]
      }
     ],
     "prompt_number": 15
    },
    {
     "cell_type": "code",
     "collapsed": false,
     "input": [
      "plt.hist(winnertiesdistribution, bins = 50)"
     ],
     "language": "python",
     "metadata": {},
     "outputs": [
      {
       "metadata": {},
       "output_type": "pyout",
       "prompt_number": 16,
       "text": [
        "(array([ 69.,  45.,  43.,  49.,  46.,  48.,  46.,  45.,  43.,  39.,  34.,\n",
        "        45.,  35.,  27.,  29.,  30.,  57.,  30.,  20.,  22.,  19.,  17.,\n",
        "         9.,  13.,  14.,  10.,  11.,   8.,  10.,   7.,   4.,   4.,   6.,\n",
        "        12.,   6.,   1.,   3.,   2.,   3.,   0.,   0.,   0.,   1.,   0.,\n",
        "         0.,   0.,   0.,   0.,   0.,   1.]),\n",
        " array([   0.  ,    2.06,    4.12,    6.18,    8.24,   10.3 ,   12.36,\n",
        "         14.42,   16.48,   18.54,   20.6 ,   22.66,   24.72,   26.78,\n",
        "         28.84,   30.9 ,   32.96,   35.02,   37.08,   39.14,   41.2 ,\n",
        "         43.26,   45.32,   47.38,   49.44,   51.5 ,   53.56,   55.62,\n",
        "         57.68,   59.74,   61.8 ,   63.86,   65.92,   67.98,   70.04,\n",
        "         72.1 ,   74.16,   76.22,   78.28,   80.34,   82.4 ,   84.46,\n",
        "         86.52,   88.58,   90.64,   92.7 ,   94.76,   96.82,   98.88,\n",
        "        100.94,  103.  ]),\n",
        " <a list of 50 Patch objects>)"
       ]
      },
      {
       "metadata": {},
       "output_type": "display_data",
       "png": "[encoded data removed]",
       "text": [
        "<matplotlib.figure.Figure at 0x10ef0d410>"
       ]
      }
     ],
     "prompt_number": 16
    },
    {
     "cell_type": "markdown",
     "metadata": {},
     "source": [
      "##Please send any comments or corrections to: ppetto@ppetto.com"
     ]
    },
    {
     "cell_type": "code",
     "collapsed": false,
     "input": [
      "%whos"
     ],
     "language": "python",
     "metadata": {},
     "outputs": [
      {
       "output_type": "stream",
       "stream": "stdout",
       "text": [
        "Variable                   Type        Data/Info\n",
        "------------------------------------------------\n",
        "coin                       list        n=2\n",
        "coinflip                   function    <function coinflip at 0x10d8b8320>\n",
        "create3distributions       function    <function create3distributions at 0x10d8b85f0>\n",
        "create3moredistributions   function    <function create3moredist<...>ributions at 0x10da3e848>\n",
        "headwinsdistribution       list        n=1000\n",
        "multiflip                  function    <function multiflip at 0x10d8b86e0>\n",
        "multifliptallywinners      function    <function multifliptallywinners at 0x10d8b8578>\n",
        "tailwinsdistribution       list        n=1000\n",
        "tiecount                   int         37\n",
        "tiesdistribution           list        n=1000\n",
        "winnerlossesdistribution   list        n=963\n",
        "winnertiesdistribution     list        n=963\n",
        "winnerwinsdistribution     list        n=963\n"
       ]
      }
     ],
     "prompt_number": 17
    },
    {
     "cell_type": "code",
     "collapsed": false,
     "input": [],
     "language": "python",
     "metadata": {},
     "outputs": [],
     "prompt_number": 17
    }
   ],
   "metadata": {}
  }
 ]
}