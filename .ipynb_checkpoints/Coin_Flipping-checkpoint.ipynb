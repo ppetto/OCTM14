{
 "metadata": {
  "name": "",
  "signature": "sha256:b3090253afca19a6f2d78061c8a4616f55d4a9864b6d2a52be0cf2795ed8c3c0"
 },
 "nbformat": 3,
 "nbformat_minor": 0,
 "worksheets": [
  {
   "cells": [
    {
     "cell_type": "markdown",
     "metadata": {},
     "source": [
      "This file is interactive when loaded into an Ipython Notebook. I am also going to rewrite it as interactive web \"Trinkets,\" and as an Rmarkdown document.\n",
      "\n",
      "###Here's code creating a function that flips a fair coin."
     ]
    },
    {
     "cell_type": "code",
     "collapsed": false,
     "input": [
      "coin = [\"H\", \"T\"]\n",
      "\n",
      "def coinflip():\n",
      "    \"flip a fair coin\"\n",
      "    return (random.choice(coin))"
     ],
     "language": "python",
     "metadata": {},
     "outputs": [],
     "prompt_number": 1
    },
    {
     "cell_type": "markdown",
     "metadata": {},
     "source": [
      "###Just execute the function to flip the coin."
     ]
    },
    {
     "cell_type": "code",
     "collapsed": false,
     "input": [
      "coinflip()"
     ],
     "language": "python",
     "metadata": {},
     "outputs": [
      {
       "metadata": {},
       "output_type": "pyout",
       "prompt_number": 2,
       "text": [
        "'T'"
       ]
      }
     ],
     "prompt_number": 2
    },
    {
     "cell_type": "markdown",
     "metadata": {},
     "source": [
      "###Here's code creating a function that flips a fair coin however many times you specify, and then reports the total number of heads followed by the total number of tails."
     ]
    },
    {
     "cell_type": "code",
     "collapsed": false,
     "input": [
      "def multiflip(howmany):\n",
      "    \"flip a coin many times - [heads, tails]\"\n",
      "    totalheads = 0\n",
      "    totaltails = 0\n",
      "    for x in range(howmany):\n",
      "        if coinflip() == \"H\":\n",
      "            totalheads += 1\n",
      "        else:\n",
      "            totaltails += 1\n",
      "    return([totalheads, totaltails])"
     ],
     "language": "python",
     "metadata": {},
     "outputs": [],
     "prompt_number": 3
    },
    {
     "cell_type": "markdown",
     "metadata": {},
     "source": [
      "###Just execute the function (specifying the number of flips) to see the result."
     ]
    },
    {
     "cell_type": "code",
     "collapsed": false,
     "input": [
      "multiflip(1000)"
     ],
     "language": "python",
     "metadata": {},
     "outputs": [
      {
       "metadata": {},
       "output_type": "pyout",
       "prompt_number": 4,
       "text": [
        "[482, 518]"
       ]
      }
     ],
     "prompt_number": 4
    },
    {
     "cell_type": "markdown",
     "metadata": {},
     "source": [
      "###Here's code creating a function that flips a fair coin however many times you specify, and then reports the total number of time heads was \"winning\" followed by the total number of tails was \"winning\" followed by the total number of times they were tied."
     ]
    },
    {
     "cell_type": "code",
     "collapsed": false,
     "input": [
      "def multifliptallywinners(howmany):\n",
      "    \"flip a coin many times & track who is winning - [headwins, tailwins, ties]\"\n",
      "    totalheads = 0\n",
      "    totaltails = 0\n",
      "    headwins = 0\n",
      "    tailwins = 0\n",
      "    ties = 0\n",
      "    for x in range(howmany):\n",
      "        if coinflip() == \"H\":\n",
      "            totalheads += 1\n",
      "        else:\n",
      "            totaltails += 1\n",
      "        if totalheads > totaltails:\n",
      "            headwins += 1\n",
      "        elif totalheads < totaltails:\n",
      "            tailwins += 1\n",
      "        else:\n",
      "            ties += 1\n",
      "    return([headwins, tailwins, ties])"
     ],
     "language": "python",
     "metadata": {},
     "outputs": [],
     "prompt_number": 5
    },
    {
     "cell_type": "markdown",
     "metadata": {},
     "source": [
      "###Just execute the function (specifying the number of flips) to see the result."
     ]
    },
    {
     "cell_type": "code",
     "collapsed": false,
     "input": [
      "multifliptallywinners(1000)"
     ],
     "language": "python",
     "metadata": {},
     "outputs": [
      {
       "metadata": {},
       "output_type": "pyout",
       "prompt_number": 6,
       "text": [
        "[692, 281, 27]"
       ]
      }
     ],
     "prompt_number": 6
    },
    {
     "cell_type": "markdown",
     "metadata": {},
     "source": [
      "More interesting (to me) than the result from any individual run of coin flipping, would be to find some way to compare this \"winners & ties\" result to what might be a typical result. Unfortunately, I have neither instinct nor intuition as to what typical might be in this case.\n",
      "\n",
      "So...it might be worthwhile to repeat the flipping & tallying and create distributions for winners and ties.\n",
      "\n",
      "###Here's code creating a function that *repeats* flipping a fair coin however many times you specify, and then tallies the total number of time heads was \"won\" tallies the total number of times tails \"won\" and tallies the total number of times they were tied."
     ]
    },
    {
     "cell_type": "code",
     "collapsed": false,
     "input": [
      "headwinsdistribution = []\n",
      "tailwinsdistribution = []\n",
      "tiesdistribution = []\n",
      "\n",
      "def create3distributions(repetitions, howmany):\n",
      "    \"build distributions for headwins, tailwins, ties\"\n",
      "    for x in range(repetitions):\n",
      "        result = multifliptallywinners(howmany)\n",
      "        headwinsdistribution.append(result[0])\n",
      "        tailwinsdistribution.append(result[1])\n",
      "        tiesdistribution.append(result[2])"
     ],
     "language": "python",
     "metadata": {},
     "outputs": [],
     "prompt_number": 7
    },
    {
     "cell_type": "markdown",
     "metadata": {},
     "source": [
      "###Just execute the function (specifying the number of repetitions followed by the number of flips in each run) to construct the three distributions."
     ]
    },
    {
     "cell_type": "code",
     "collapsed": false,
     "input": [
      "create3distributions(1000, 1000)"
     ],
     "language": "python",
     "metadata": {},
     "outputs": [],
     "prompt_number": 8
    },
    {
     "cell_type": "markdown",
     "metadata": {},
     "source": [
      "###A histogram is probably the best way to look at these distributions. Here's the one for heads:"
     ]
    },
    {
     "cell_type": "code",
     "collapsed": false,
     "input": [
      "plt.hist(headwinsdistribution, bins = 50)"
     ],
     "language": "python",
     "metadata": {},
     "outputs": [
      {
       "metadata": {},
       "output_type": "pyout",
       "prompt_number": 9,
       "text": [
        "(array([ 91.,  39.,  31.,  34.,  21.,  16.,  18.,  21.,  18.,  25.,  18.,\n",
        "         15.,  14.,  11.,   6.,  11.,   9.,  14.,  15.,  11.,  19.,  11.,\n",
        "         13.,  16.,  18.,  14.,  17.,  12.,  19.,  14.,  17.,  16.,  10.,\n",
        "         12.,  14.,  17.,  20.,   9.,  12.,  17.,  10.,  16.,  17.,  14.,\n",
        "         16.,  21.,  20.,  28.,  34.,  89.]),\n",
        " array([    0.,    20.,    40.,    60.,    80.,   100.,   120.,   140.,\n",
        "          160.,   180.,   200.,   220.,   240.,   260.,   280.,   300.,\n",
        "          320.,   340.,   360.,   380.,   400.,   420.,   440.,   460.,\n",
        "          480.,   500.,   520.,   540.,   560.,   580.,   600.,   620.,\n",
        "          640.,   660.,   680.,   700.,   720.,   740.,   760.,   780.,\n",
        "          800.,   820.,   840.,   860.,   880.,   900.,   920.,   940.,\n",
        "          960.,   980.,  1000.]),\n",
        " <a list of 50 Patch objects>)"
       ]
      },
      {
       "metadata": {},
       "output_type": "display_data",
       "png": "[encoded data removed]",
       "text": [
        "<matplotlib.figure.Figure at 0x10d2c1210>"
       ]
      }
     ],
     "prompt_number": 9
    },
    {
     "cell_type": "markdown",
     "metadata": {},
     "source": [
      "###Here's the distrbution for tails:"
     ]
    },
    {
     "cell_type": "code",
     "collapsed": false,
     "input": [
      "plt.hist(tailwinsdistribution, bins = 50)"
     ],
     "language": "python",
     "metadata": {},
     "outputs": [
      {
       "metadata": {},
       "output_type": "pyout",
       "prompt_number": 10,
       "text": [
        "(array([ 110.,   33.,   28.,   19.,   20.,   18.,   15.,   18.,   14.,\n",
        "          13.,   13.,   12.,   20.,   19.,   17.,   11.,    7.,   21.,\n",
        "          15.,   17.,   10.,   12.,   20.,   17.,   17.,   13.,   11.,\n",
        "          21.,   16.,    9.,   12.,   12.,    8.,    9.,    6.,   13.,\n",
        "          17.,   15.,   13.,   21.,   22.,   19.,   17.,   19.,   16.,\n",
        "          24.,   37.,   25.,   38.,   71.]),\n",
        " array([    0.,    20.,    40.,    60.,    80.,   100.,   120.,   140.,\n",
        "          160.,   180.,   200.,   220.,   240.,   260.,   280.,   300.,\n",
        "          320.,   340.,   360.,   380.,   400.,   420.,   440.,   460.,\n",
        "          480.,   500.,   520.,   540.,   560.,   580.,   600.,   620.,\n",
        "          640.,   660.,   680.,   700.,   720.,   740.,   760.,   780.,\n",
        "          800.,   820.,   840.,   860.,   880.,   900.,   920.,   940.,\n",
        "          960.,   980.,  1000.]),\n",
        " <a list of 50 Patch objects>)"
       ]
      },
      {
       "metadata": {},
       "output_type": "display_data",
       "png": "[encoded data removed]",
       "text": [
        "<matplotlib.figure.Figure at 0x10e008e90>"
       ]
      }
     ],
     "prompt_number": 10
    },
    {
     "cell_type": "markdown",
     "metadata": {},
     "source": [
      "###And here's the distrbution for ties:"
     ]
    },
    {
     "cell_type": "code",
     "collapsed": false,
     "input": [
      "plt.hist(tiesdistribution, bins = 20)"
     ],
     "language": "python",
     "metadata": {},
     "outputs": [
      {
       "metadata": {},
       "output_type": "pyout",
       "prompt_number": 11,
       "text": [
        "(array([ 135.,   99.,  106.,   77.,  105.,   67.,   90.,   52.,   67.,\n",
        "          53.,   41.,   37.,   22.,   16.,    6.,   13.,    6.,    2.,\n",
        "           3.,    3.]),\n",
        " array([  0.  ,   4.45,   8.9 ,  13.35,  17.8 ,  22.25,  26.7 ,  31.15,\n",
        "         35.6 ,  40.05,  44.5 ,  48.95,  53.4 ,  57.85,  62.3 ,  66.75,\n",
        "         71.2 ,  75.65,  80.1 ,  84.55,  89.  ]),\n",
        " <a list of 20 Patch objects>)"
       ]
      },
      {
       "metadata": {},
       "output_type": "display_data",
       "png": "[encoded data removed]",
       "text": [
        "<matplotlib.figure.Figure at 0x10e0923d0>"
       ]
      }
     ],
     "prompt_number": 11
    },
    {
     "cell_type": "markdown",
     "metadata": {},
     "source": [
      "##Please send any comments or corrections to: ppetto@ppetto.com"
     ]
    },
    {
     "cell_type": "code",
     "collapsed": false,
     "input": [],
     "language": "python",
     "metadata": {},
     "outputs": []
    }
   ],
   "metadata": {}
  }
 ]
}